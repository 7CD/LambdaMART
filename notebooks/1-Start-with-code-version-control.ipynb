{
 "cells": [
  {
   "cell_type": "code",
   "execution_count": 1,
   "metadata": {},
   "outputs": [],
   "source": [
    "%load_ext autoreload\n",
    "%autoreload 2\n",
    "\n",
    "import numpy as np\n",
    "import sys"
   ]
  },
  {
   "cell_type": "code",
   "execution_count": 29,
   "metadata": {},
   "outputs": [],
   "source": [
    "#  # Set the repository root as a working directory \n",
    "\n",
    "%cd .."
   ]
  },
  {
   "cell_type": "markdown",
   "metadata": {
    "id": "KQ_EeuNENCJX"
   },
   "source": [
    "# Load dataset"
   ]
  },
  {
   "cell_type": "code",
   "execution_count": 6,
   "metadata": {
    "colab": {
     "base_uri": "https://localhost:8080/"
    },
    "id": "XJ9u3oJQNEkR",
    "outputId": "fc893084-7ab0-4a24-bb80-5bcc60868a7c"
   },
   "outputs": [],
   "source": [
    "from src.data.dataset import get_dataset\n",
    "\n",
    "url = 'https://drive.google.com/uc?id=1UazU8Dd1ZahFPKQL4bqgapfkqiZax6SO'\n",
    "raw_dataset_path = 'data/raw/l2r.tar.gz'\n",
    "processed_dataset_dir = 'data/processed/'\n",
    "(train_csr, train_y, train_qid), (test_csr, test_y, test_qid) = get_dataset(url, \n",
    "                                                                            raw_dataset_path, \n",
    "                                                                            processed_dataset_dir)"
   ]
  },
  {
   "cell_type": "markdown",
   "metadata": {},
   "source": [
    "# Split dataset"
   ]
  },
  {
   "cell_type": "code",
   "execution_count": 5,
   "metadata": {},
   "outputs": [],
   "source": [
    "from src.data.split import train_val_split\n",
    "\n",
    "test_size = 0.3\n",
    "random_state = 42\n",
    "\n",
    "(X_train, y_train, qid_train), (X_val, y_val, qid_val) = train_val_split(train_csr, train_y, train_qid, \n",
    "                                                                         test_size, random_state)"
   ]
  },
  {
   "cell_type": "markdown",
   "metadata": {
    "id": "TRbODe6YqRxS"
   },
   "source": [
    "# Train"
   ]
  },
  {
   "cell_type": "code",
   "execution_count": 12,
   "metadata": {
    "id": "hkhyrnEDRDAC"
   },
   "outputs": [
    {
     "name": "stderr",
     "output_type": "stream",
     "text": [
      "100%|██████████| 2/2 [01:59<00:00, 59.78s/it]\n"
     ]
    }
   ],
   "source": [
    "from src.ranking.model import LambdaMART\n",
    "\n",
    "model = LambdaMART(2, 1, 0.2)\n",
    "model.fit(X_train, y_train, qid_train)"
   ]
  },
  {
   "cell_type": "markdown",
   "metadata": {
    "id": "1zvo5P6zqvXc"
   },
   "source": [
    "# Evaluate"
   ]
  },
  {
   "cell_type": "code",
   "execution_count": 30,
   "metadata": {
    "colab": {
     "base_uri": "https://localhost:8080/"
    },
    "id": "wspBWjMjvPoh",
    "outputId": "0cb3bf11-ff84-49a1-a7de-2ea51c2f1552"
   },
   "outputs": [
    {
     "data": {
      "text/plain": [
       "0.766907553043634"
      ]
     },
     "execution_count": 30,
     "metadata": {},
     "output_type": "execute_result"
    }
   ],
   "source": [
    "from src.evaluate.evaluate import evaluate\n",
    "\n",
    "evaluate(model, X_val, y_val, qid_val)"
   ]
  },
  {
   "cell_type": "markdown",
   "metadata": {
    "id": "Fzxyy3Lku0YR"
   },
   "source": [
    "# Submit"
   ]
  },
  {
   "cell_type": "code",
   "execution_count": 23,
   "metadata": {
    "id": "_cqrGGI_u1xL"
   },
   "outputs": [
    {
     "name": "stderr",
     "output_type": "stream",
     "text": [
      "100%|██████████| 2.83M/2.83M [00:05<00:00, 525kB/s] \n"
     ]
    }
   ],
   "source": [
    "from src.kaggle.utils import submit\n",
    "\n",
    "pred = model.predict(test_csr)\n",
    "\n",
    "submission_path = 'src/kaggle/submission.txt'\n",
    "\n",
    "submit(pred, submission_path)"
   ]
  },
  {
   "cell_type": "code",
   "execution_count": null,
   "metadata": {
    "id": "t5c1bzoC8WvB"
   },
   "outputs": [],
   "source": []
  }
 ],
 "metadata": {
  "colab": {
   "collapsed_sections": [],
   "name": "LearningToRank.ipynb",
   "provenance": []
  },
  "kernelspec": {
   "display_name": "venv",
   "language": "python",
   "name": "venv"
  },
  "language_info": {
   "codemirror_mode": {
    "name": "ipython",
    "version": 3
   },
   "file_extension": ".py",
   "mimetype": "text/x-python",
   "name": "python",
   "nbconvert_exporter": "python",
   "pygments_lexer": "ipython3",
   "version": "3.7.4"
  }
 },
 "nbformat": 4,
 "nbformat_minor": 1
}
